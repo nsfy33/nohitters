{
 "cells": [
  {
   "cell_type": "markdown",
   "metadata": {},
   "source": [
    "## Introduction\n",
    "\n",
    "This is the code used in the reddit post I made here. This is the data prep step\n",
    "\n",
    "https://old.reddit.com/r/baseball/comments/8wb4dd/oc_the_hardest_and_easiest_nohitters_in_the/\n",
    "\n",
    "Some caveats:\n",
    "\n",
    "* the code is a bit hacky in placed to make it work especially for web scraping\n",
    "* it takes a bit of time to run\n",
    "\n",
    "## Import libraries\n",
    "\n",
    "We use requests/bs4/re for scraping and cleaning data and pandas for analysis"
   ]
  },
  {
   "cell_type": "code",
   "execution_count": 3,
   "metadata": {
    "collapsed": true
   },
   "outputs": [],
   "source": [
    "import pandas as pd\n",
    "import requests\n",
    "import re\n",
    "from bs4 import BeautifulSoup"
   ]
  },
  {
   "cell_type": "markdown",
   "metadata": {},
   "source": [
    "### Pull and parse list of no hitters"
   ]
  },
  {
   "cell_type": "code",
   "execution_count": 249,
   "metadata": {},
   "outputs": [
    {
     "data": {
      "text/html": [
       "<div>\n",
       "<style>\n",
       "    .dataframe thead tr:only-child th {\n",
       "        text-align: right;\n",
       "    }\n",
       "\n",
       "    .dataframe thead th {\n",
       "        text-align: left;\n",
       "    }\n",
       "\n",
       "    .dataframe tbody tr th {\n",
       "        vertical-align: top;\n",
       "    }\n",
       "</style>\n",
       "<table border=\"1\" class=\"dataframe\">\n",
       "  <thead>\n",
       "    <tr style=\"text-align: right;\">\n",
       "      <th></th>\n",
       "      <th>#</th>\n",
       "      <th>Date</th>\n",
       "      <th>Pitcher</th>\n",
       "      <th>Team</th>\n",
       "      <th>RS</th>\n",
       "      <th>Opponent</th>\n",
       "      <th>RA</th>\n",
       "      <th>League</th>\n",
       "      <th>Catcher</th>\n",
       "      <th>Notes</th>\n",
       "      <th>date</th>\n",
       "    </tr>\n",
       "  </thead>\n",
       "  <tbody>\n",
       "    <tr>\n",
       "      <th>114</th>\n",
       "      <td>114.0</td>\n",
       "      <td>000000001945-09-09-0000September 9, 1945</td>\n",
       "      <td>Dick Fowler</td>\n",
       "      <td>Philadelphia Athletics</td>\n",
       "      <td>1</td>\n",
       "      <td>St. Louis Browns</td>\n",
       "      <td>0</td>\n",
       "      <td>AL</td>\n",
       "      <td>Buddy Rosar (1)</td>\n",
       "      <td>[notes 42]</td>\n",
       "      <td>1945-09-09</td>\n",
       "    </tr>\n",
       "    <tr>\n",
       "      <th>115</th>\n",
       "      <td>115.0</td>\n",
       "      <td>000000001946-04-23-0000April 23, 1946</td>\n",
       "      <td>Ed Head</td>\n",
       "      <td>Brooklyn Dodgers</td>\n",
       "      <td>5</td>\n",
       "      <td>Boston Braves</td>\n",
       "      <td>0</td>\n",
       "      <td>NL</td>\n",
       "      <td>Ferrell Anderson</td>\n",
       "      <td>NaN</td>\n",
       "      <td>1946-04-23</td>\n",
       "    </tr>\n",
       "    <tr>\n",
       "      <th>116</th>\n",
       "      <td>116.0</td>\n",
       "      <td>000000001946-04-30-0000April 30, 1946</td>\n",
       "      <td>Bob Feller (2)</td>\n",
       "      <td>Cleveland Indians</td>\n",
       "      <td>1</td>\n",
       "      <td>New York Yankees</td>\n",
       "      <td>0</td>\n",
       "      <td>AL</td>\n",
       "      <td>Frankie Hayes</td>\n",
       "      <td>NaN</td>\n",
       "      <td>1946-04-30</td>\n",
       "    </tr>\n",
       "  </tbody>\n",
       "</table>\n",
       "</div>"
      ],
      "text/plain": [
       "         #                                      Date         Pitcher  \\\n",
       "114  114.0  000000001945-09-09-0000September 9, 1945     Dick Fowler   \n",
       "115  115.0     000000001946-04-23-0000April 23, 1946         Ed Head   \n",
       "116  116.0     000000001946-04-30-0000April 30, 1946  Bob Feller (2)   \n",
       "\n",
       "                       Team  RS          Opponent  RA League  \\\n",
       "114  Philadelphia Athletics   1  St. Louis Browns   0     AL   \n",
       "115        Brooklyn Dodgers   5     Boston Braves   0     NL   \n",
       "116       Cleveland Indians   1  New York Yankees   0     AL   \n",
       "\n",
       "              Catcher       Notes       date  \n",
       "114   Buddy Rosar (1)  [notes 42] 1945-09-09  \n",
       "115  Ferrell Anderson         NaN 1946-04-23  \n",
       "116     Frankie Hayes         NaN 1946-04-30  "
      ]
     },
     "execution_count": 249,
     "metadata": {},
     "output_type": "execute_result"
    }
   ],
   "source": [
    "#use wikipedia\n",
    "no_hits = pd.read_html(\"https://en.wikipedia.org/wiki/List_of_Major_League_Baseball_no-hitters\",header=0)[1]\n",
    "\n",
    "#clean up dates and keep only post-war\n",
    "no_hits['date'] = pd.to_datetime(no_hits.Date.str.split(\"0000\").str[2].str.strip(\"-\"))\n",
    "no_hits = no_hits[no_hits.date>='1945']\n",
    "\n",
    "#write to CSV for later use\n",
    "no_hits[['Pitcher','Team','Opponent','date']].to_csv(\"no_hits.csv\",index=None)\n",
    "\n",
    "no_hits.head(3)"
   ]
  },
  {
   "cell_type": "code",
   "execution_count": 35,
   "metadata": {
    "collapsed": true
   },
   "outputs": [],
   "source": [
    "#for future runs, we only need to read data\n",
    "no_hits = pd.read_csv(\"no_hits.csv\", encoding = \"ISO-8859-1\")\n",
    "no_hits.date = pd.to_datetime(no_hits.date)\n",
    "\n",
    "#compute a list of games to lookup\n",
    "items_to_do = no_hits.index.tolist()\n",
    "results = {}"
   ]
  },
  {
   "cell_type": "markdown",
   "metadata": {},
   "source": [
    "### For each no hitter, scrape the box score, getting the list of players who had ABs for the no-hit team"
   ]
  },
  {
   "cell_type": "code",
   "execution_count": 122,
   "metadata": {
    "scrolled": true
   },
   "outputs": [
    {
     "name": "stdout",
     "output_type": "stream",
     "text": [
      "158 2\n",
      "2011\n",
      "https://www.baseball-reference.com/boxes/CLE/CLE201107270.shtml\n",
      "160 2\n",
      "2012\n",
      "https://www.baseball-reference.com/boxes/ANA/ANA201205020.shtml\n"
     ]
    }
   ],
   "source": [
    "#regex for the AB/H stats\n",
    "pat = '<a href=\"([^\"]+)\">([^<]+)</a>[^<]+</th><td class=\"right endpoint\" data-endpoint=\"[^\"]+\" '+\\\n",
    "'data-stat=\"AB\" >([0-9]+)</td><td class=\"right \" data-stat=\"R\" >[0-9]+</td>'+\\\n",
    "'<td class=\"right \" data-stat=\"H\" >([0-9]+)</td>'\n",
    "\n",
    "\n",
    "\n",
    "for i in [x for x in items_to_do if x not in results]:\n",
    "    print(i, len(items_to_do))\n",
    "    todo = no_hits.iloc[i]\n",
    "    #get date and URL for this date\n",
    "    y = todo.date.date().year\n",
    "    print(y)\n",
    "    m = todo.date.date().month\n",
    "    d = todo.date.date().day\n",
    "    \n",
    "    url = f\"https://www.baseball-reference.com/boxes/?month={m}&day={d}&year={y}\"\n",
    "        \n",
    "    #clean up team names\n",
    "    team1 = todo['Team'].replace('(AL)','').replace('(NL)','').strip()\n",
    "    team1 = team1.replace(\".45s\",\".45's\").replace(\"Los Angeles Angels of Anaheim\",\"LA Angels of Anaheim\")\n",
    "    team2 = todo['Opponent'].replace('(AL)','').replace('(NL)','').strip()\n",
    "    team2 = team2.replace(\".45s\",\".45's\").replace(\"Los Angeles Angels of Anaheim\",\"LA Angels of Anaheim\")\n",
    "\n",
    "    #get box scores for date and find URL for game involving our team of interest\n",
    "    text = requests.get(url).text.replace(\"\\n\",\" \")\n",
    "    try:\n",
    "        match1 = re.findall(f\"{team1}.*?{team2}\", text)[0]\n",
    "    except:\n",
    "        match1 = \"x\"*10000\n",
    "    try:\n",
    "        match2 = re.findall(f\"{team2}.*?{team1}\", text)[0]\n",
    "    except:\n",
    "        match2 = \"x\"*10000\n",
    "    \n",
    "    url = \"https://www.baseball-reference.com\" + re.findall(\"/boxes/.*?.shtml\",min([match1, match2], key=len))[0]\n",
    "    \n",
    "    #account for double headers - in this case we pull both and decide which to keep based on hits\n",
    "    urls = list(set([url, url.replace('1.shtml','2.shtml')]))\n",
    "    res_tmp = []\n",
    "    for url in urls:\n",
    "        print(url)\n",
    "        r = requests.get(url)\n",
    "        txt = r.text\n",
    "\n",
    "        #get player stats and split into two teams. Get name/AB/H for player and link to their player page\n",
    "        players = [(x.start(),x.group()) for x in re.finditer(pat, txt)]\n",
    "        players_min = players[0][0]\n",
    "        players_max = players[-1][0]\n",
    "\n",
    "        teams = sorted([(x.start(),x.group()) for x in re.finditer(team2, txt)] + [(x.start(),x.group()) for x in re.finditer(team1, txt)])\n",
    "\n",
    "        split = [x for x in teams if x[0] >= players_min]\n",
    "        tm2 = split[0]\n",
    "        tm1 = split[3]\n",
    "\n",
    "        players = [(x[1],tm1[1]) if x[0] <= tm2[0] else (x[1],tm2[1]) for x in players]\n",
    "\n",
    "        players = [x[0] for x in players if x[1]==team2]\n",
    "        players = pd.DataFrame(players).rename(columns={0:'raw'})\n",
    "        players = players.raw.str.extract(pat, expand=True)\n",
    "        players.columns = ['player_link','Name','AB','H']\n",
    "        players = players[players.AB.astype(int) > 0]\n",
    "        players.player_link = \"https://www.baseball-reference.com\" + players.player_link\n",
    "\n",
    "        #special handling for Angels. Hacky and could break.\n",
    "        if i == 158:\n",
    "            players = players.iloc[9:]\n",
    "        if i == 160:\n",
    "            players = players.iloc[:9]\n",
    "        tmp = pd.DataFrame(todo).T\n",
    "        tmp['key'] = 1\n",
    "        tmp['year'] = y\n",
    "        tmp['game_link'] = url\n",
    "\n",
    "        players['key'] = 1\n",
    "\n",
    "        tmp.merge(players)\n",
    "\n",
    "        res = tmp.merge(players).drop('key',axis=1)\n",
    "        res_tmp.append(res)\n",
    "    results[i] = res_tmp"
   ]
  },
  {
   "cell_type": "code",
   "execution_count": 161,
   "metadata": {
    "collapsed": true
   },
   "outputs": [],
   "source": [
    "#collate into one data frame\n",
    "df = pd.concat([x for a in results.values() for x in a])"
   ]
  },
  {
   "cell_type": "markdown",
   "metadata": {},
   "source": [
    "### Clean up - we pulled by date, so we have double-headers, so take the game with the no-hit"
   ]
  },
  {
   "cell_type": "code",
   "execution_count": 162,
   "metadata": {
    "collapsed": true
   },
   "outputs": [],
   "source": [
    "df.H = df.H.astype(int)\n",
    "\n",
    "df_h = df.groupby('game_link').H.sum().reset_index()\n",
    "df_h[df_h.H==0].shape\n",
    "\n",
    "df = df.merge(df_h[df_h.H==0][['game_link']]).reset_index(drop=True)"
   ]
  },
  {
   "cell_type": "markdown",
   "metadata": {},
   "source": [
    "### For each player, get their season AB/BA for the year of the no-hit and the same for their career"
   ]
  },
  {
   "cell_type": "code",
   "execution_count": 202,
   "metadata": {
    "collapsed": true
   },
   "outputs": [],
   "source": [
    "def get_ba(u, y):\n",
    "    raw = requests.get(u)\n",
    "    raw = raw.text.replace(\"<!--\",\"\").replace(\"<!--\",\"-->\")\n",
    "    stats = [x for x in pd.read_html(raw) if 'BA' in x.columns][0]\n",
    "    BAc = stats[stats.Year.fillna('').str.contains(\"Yr\")]['CS'].tolist()[0]\n",
    "    ABc = stats[stats.Year.fillna('').str.contains(\"Yr\")]['Lg'].tolist()[0]\n",
    "    \n",
    "    stats = stats[['Year','BA','AB','Lg']]\n",
    "    stats = stats[(stats.Year==str(y))&(stats.Lg.isin(['AL','NL']))]\n",
    "    ABs = stats.AB.sum()\n",
    "    BAs = (stats.BA*stats.AB).sum() / (ABs)\n",
    "\n",
    "    return BAs, ABs, BAc, ABc"
   ]
  },
  {
   "cell_type": "code",
   "execution_count": 203,
   "metadata": {
    "collapsed": true
   },
   "outputs": [],
   "source": [
    "BAss = [0]*len(df)\n",
    "ABss = [0]*len(df)\n",
    "BAcs = [0]*len(df)\n",
    "ABcs = [0]*len(df)\n",
    "i=0"
   ]
  },
  {
   "cell_type": "code",
   "execution_count": null,
   "metadata": {
    "collapsed": true,
    "scrolled": true
   },
   "outputs": [],
   "source": [
    "while i < len(df):\n",
    "    print(i)\n",
    "    x= df.iloc[i]\n",
    "    BAs, ABs, BAc, ABc = get_ba(x['player_link'],x['year'])\n",
    "    BAss[i]=BAs\n",
    "    ABss[i]=ABs\n",
    "    BAcs[i]=BAc\n",
    "    ABcs[i]=ABc\n",
    "    i+=1"
   ]
  },
  {
   "cell_type": "code",
   "execution_count": 208,
   "metadata": {
    "collapsed": true
   },
   "outputs": [],
   "source": [
    "df['BA_season'] = BAss\n",
    "df['AB_season'] = ABss\n",
    "df['BA_career'] = BAcs\n",
    "df['AB_career'] = ABcs"
   ]
  },
  {
   "cell_type": "code",
   "execution_count": 234,
   "metadata": {
    "collapsed": true
   },
   "outputs": [],
   "source": [
    "df['BA'] = 0\n",
    "df.AB_career = df.AB_career.astype(int)\n",
    "\n",
    "#correction for error in code\n",
    "df.BA_season = df.BA_season*14 / df.AB_season\n",
    "\n",
    "df.loc[df.AB_season>=50,'BA'] = df.loc[df.AB_season>=50,'BA_season']\n",
    "df.loc[df.AB_season<50,'BA'] = df.loc[df.AB_season<50,'BA_career']"
   ]
  },
  {
   "cell_type": "code",
   "execution_count": 13,
   "metadata": {
    "collapsed": true
   },
   "outputs": [],
   "source": [
    "df.to_csv(\"no_hits_res.csv\",index=None)"
   ]
  },
  {
   "cell_type": "code",
   "execution_count": 250,
   "metadata": {},
   "outputs": [
    {
     "data": {
      "text/html": [
       "<div>\n",
       "<style>\n",
       "    .dataframe thead tr:only-child th {\n",
       "        text-align: right;\n",
       "    }\n",
       "\n",
       "    .dataframe thead th {\n",
       "        text-align: left;\n",
       "    }\n",
       "\n",
       "    .dataframe tbody tr th {\n",
       "        vertical-align: top;\n",
       "    }\n",
       "</style>\n",
       "<table border=\"1\" class=\"dataframe\">\n",
       "  <thead>\n",
       "    <tr style=\"text-align: right;\">\n",
       "      <th></th>\n",
       "      <th>Pitcher</th>\n",
       "      <th>Team</th>\n",
       "      <th>Opponent</th>\n",
       "      <th>date</th>\n",
       "      <th>year</th>\n",
       "      <th>game_link</th>\n",
       "      <th>player_link</th>\n",
       "      <th>Name</th>\n",
       "      <th>AB</th>\n",
       "      <th>H</th>\n",
       "      <th>BA</th>\n",
       "      <th>BA_season</th>\n",
       "      <th>AB_season</th>\n",
       "      <th>BA_career</th>\n",
       "      <th>AB_career</th>\n",
       "      <th>id</th>\n",
       "      <th>abba</th>\n",
       "    </tr>\n",
       "  </thead>\n",
       "  <tbody>\n",
       "    <tr>\n",
       "      <th>0</th>\n",
       "      <td>Dick Fowler</td>\n",
       "      <td>Philadelphia Athletics</td>\n",
       "      <td>St. Louis Browns</td>\n",
       "      <td>1945-09-09</td>\n",
       "      <td>1945</td>\n",
       "      <td>https://www.baseball-reference.com/boxes/PHA/P...</td>\n",
       "      <td>https://www.baseball-reference.com/players/b/b...</td>\n",
       "      <td>Milt Byrnes</td>\n",
       "      <td>3</td>\n",
       "      <td>0</td>\n",
       "      <td>0.249000</td>\n",
       "      <td>0.249000</td>\n",
       "      <td>442.0</td>\n",
       "      <td>0.274</td>\n",
       "      <td>1278</td>\n",
       "      <td>0</td>\n",
       "      <td>0.747000</td>\n",
       "    </tr>\n",
       "    <tr>\n",
       "      <th>1</th>\n",
       "      <td>Dick Fowler</td>\n",
       "      <td>Philadelphia Athletics</td>\n",
       "      <td>St. Louis Browns</td>\n",
       "      <td>1945-09-09</td>\n",
       "      <td>1945</td>\n",
       "      <td>https://www.baseball-reference.com/boxes/PHA/P...</td>\n",
       "      <td>https://www.baseball-reference.com/players/f/f...</td>\n",
       "      <td>Lou Finney</td>\n",
       "      <td>3</td>\n",
       "      <td>0</td>\n",
       "      <td>0.274212</td>\n",
       "      <td>0.274212</td>\n",
       "      <td>430.0</td>\n",
       "      <td>0.287</td>\n",
       "      <td>4631</td>\n",
       "      <td>0</td>\n",
       "      <td>0.822635</td>\n",
       "    </tr>\n",
       "    <tr>\n",
       "      <th>2</th>\n",
       "      <td>Dick Fowler</td>\n",
       "      <td>Philadelphia Athletics</td>\n",
       "      <td>St. Louis Browns</td>\n",
       "      <td>1945-09-09</td>\n",
       "      <td>1945</td>\n",
       "      <td>https://www.baseball-reference.com/boxes/PHA/P...</td>\n",
       "      <td>https://www.baseball-reference.com/players/m/m...</td>\n",
       "      <td>Gene Moore</td>\n",
       "      <td>2</td>\n",
       "      <td>0</td>\n",
       "      <td>0.260000</td>\n",
       "      <td>0.260000</td>\n",
       "      <td>354.0</td>\n",
       "      <td>0.270</td>\n",
       "      <td>3543</td>\n",
       "      <td>0</td>\n",
       "      <td>0.520000</td>\n",
       "    </tr>\n",
       "    <tr>\n",
       "      <th>3</th>\n",
       "      <td>Dick Fowler</td>\n",
       "      <td>Philadelphia Athletics</td>\n",
       "      <td>St. Louis Browns</td>\n",
       "      <td>1945-09-09</td>\n",
       "      <td>1945</td>\n",
       "      <td>https://www.baseball-reference.com/boxes/PHA/P...</td>\n",
       "      <td>https://www.baseball-reference.com/players/l/l...</td>\n",
       "      <td>Chet Laabs</td>\n",
       "      <td>3</td>\n",
       "      <td>0</td>\n",
       "      <td>0.239000</td>\n",
       "      <td>0.239000</td>\n",
       "      <td>109.0</td>\n",
       "      <td>0.262</td>\n",
       "      <td>3102</td>\n",
       "      <td>0</td>\n",
       "      <td>0.717000</td>\n",
       "    </tr>\n",
       "    <tr>\n",
       "      <th>4</th>\n",
       "      <td>Dick Fowler</td>\n",
       "      <td>Philadelphia Athletics</td>\n",
       "      <td>St. Louis Browns</td>\n",
       "      <td>1945-09-09</td>\n",
       "      <td>1945</td>\n",
       "      <td>https://www.baseball-reference.com/boxes/PHA/P...</td>\n",
       "      <td>https://www.baseball-reference.com/players/c/c...</td>\n",
       "      <td>Mark Christman</td>\n",
       "      <td>3</td>\n",
       "      <td>0</td>\n",
       "      <td>0.277000</td>\n",
       "      <td>0.277000</td>\n",
       "      <td>289.0</td>\n",
       "      <td>0.253</td>\n",
       "      <td>3081</td>\n",
       "      <td>0</td>\n",
       "      <td>0.831000</td>\n",
       "    </tr>\n",
       "  </tbody>\n",
       "</table>\n",
       "</div>"
      ],
      "text/plain": [
       "       Pitcher                    Team          Opponent        date  year  \\\n",
       "0  Dick Fowler  Philadelphia Athletics  St. Louis Browns  1945-09-09  1945   \n",
       "1  Dick Fowler  Philadelphia Athletics  St. Louis Browns  1945-09-09  1945   \n",
       "2  Dick Fowler  Philadelphia Athletics  St. Louis Browns  1945-09-09  1945   \n",
       "3  Dick Fowler  Philadelphia Athletics  St. Louis Browns  1945-09-09  1945   \n",
       "4  Dick Fowler  Philadelphia Athletics  St. Louis Browns  1945-09-09  1945   \n",
       "\n",
       "                                           game_link  \\\n",
       "0  https://www.baseball-reference.com/boxes/PHA/P...   \n",
       "1  https://www.baseball-reference.com/boxes/PHA/P...   \n",
       "2  https://www.baseball-reference.com/boxes/PHA/P...   \n",
       "3  https://www.baseball-reference.com/boxes/PHA/P...   \n",
       "4  https://www.baseball-reference.com/boxes/PHA/P...   \n",
       "\n",
       "                                         player_link            Name  AB  H  \\\n",
       "0  https://www.baseball-reference.com/players/b/b...     Milt Byrnes   3  0   \n",
       "1  https://www.baseball-reference.com/players/f/f...      Lou Finney   3  0   \n",
       "2  https://www.baseball-reference.com/players/m/m...      Gene Moore   2  0   \n",
       "3  https://www.baseball-reference.com/players/l/l...      Chet Laabs   3  0   \n",
       "4  https://www.baseball-reference.com/players/c/c...  Mark Christman   3  0   \n",
       "\n",
       "         BA  BA_season  AB_season  BA_career  AB_career  id      abba  \n",
       "0  0.249000   0.249000      442.0      0.274       1278   0  0.747000  \n",
       "1  0.274212   0.274212      430.0      0.287       4631   0  0.822635  \n",
       "2  0.260000   0.260000      354.0      0.270       3543   0  0.520000  \n",
       "3  0.239000   0.239000      109.0      0.262       3102   0  0.717000  \n",
       "4  0.277000   0.277000      289.0      0.253       3081   0  0.831000  "
      ]
     },
     "execution_count": 250,
     "metadata": {},
     "output_type": "execute_result"
    }
   ],
   "source": [
    "#this dataframe has a row for each batter in a no-hit game with their game H/AB and season/career AB/BA\n",
    "df.head()"
   ]
  },
  {
   "cell_type": "code",
   "execution_count": null,
   "metadata": {
    "collapsed": true
   },
   "outputs": [],
   "source": []
  }
 ],
 "metadata": {
  "kernelspec": {
   "display_name": "Python [conda env:Anaconda3]",
   "language": "python",
   "name": "conda-env-Anaconda3-py"
  },
  "language_info": {
   "codemirror_mode": {
    "name": "ipython",
    "version": 3
   },
   "file_extension": ".py",
   "mimetype": "text/x-python",
   "name": "python",
   "nbconvert_exporter": "python",
   "pygments_lexer": "ipython3",
   "version": "3.6.1"
  }
 },
 "nbformat": 4,
 "nbformat_minor": 2
}
