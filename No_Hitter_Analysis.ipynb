{
 "cells": [
  {
   "cell_type": "code",
   "execution_count": 6,
   "metadata": {
    "collapsed": true
   },
   "outputs": [],
   "source": [
    "import pandas as pd\n",
    "\n",
    "#function to convert table to markdown\n",
    "def pandas_df_to_markdown_table(df):\n",
    "    from IPython.display import Markdown, display\n",
    "    fmt = ['---' for i in range(len(df.columns))]\n",
    "    df_fmt = pd.DataFrame([fmt], columns=df.columns)\n",
    "    df_formatted = pd.concat([df_fmt, df])\n",
    "    return df_formatted.to_csv(sep=\"|\", index=False)"
   ]
  },
  {
   "cell_type": "markdown",
   "metadata": {},
   "source": [
    "### For each game, computed weighted average of BA/AB called ABBA"
   ]
  },
  {
   "cell_type": "code",
   "execution_count": 2,
   "metadata": {
    "collapsed": true
   },
   "outputs": [],
   "source": [
    "df = pd.read_csv(\"../no_hits_res.csv\", encoding = \"ISO-8859-1\")\n",
    "df.date = df.date.astype(str).str[:10]\n",
    "dfi = df[['Pitcher','date','Team','Opponent','game_link']].drop_duplicates().reset_index(drop=1).reset_index()\n",
    "dfi.columns=['id','Pitcher','date','Team','Opponent','game_link']\n",
    "\n",
    "df = df.merge(dfi)\n",
    "df['abba']=df.AB*df.BA\n",
    "\n",
    "dfs = df.groupby('id')['AB','abba'].sum()\n",
    "dfs['avg'] = dfs.abba / dfs.AB\n",
    "dfo = dfs.reset_index().merge(dfi).sort_values('avg', ascending=0).reset_index(drop=True)\n"
   ]
  },
  {
   "cell_type": "code",
   "execution_count": 3,
   "metadata": {
    "collapsed": true
   },
   "outputs": [],
   "source": [
    "#function for computing relative odds\n",
    "def calculate_odds(b, a=0.250):\n",
    "    if a >=b:\n",
    "        r = f\"{round(( (1-b)**27 ) / ( (1-a)**27),2)} times more likely\"\n",
    "    else:\n",
    "        r = f\"{round(( (1-a)**27 ) / ( (1-b)**27),2)} times less likely\"\n",
    "    \n",
    "    return r\n",
    "\n"
   ]
  },
  {
   "cell_type": "code",
   "execution_count": 4,
   "metadata": {
    "collapsed": true
   },
   "outputs": [],
   "source": [
    "#relative odds and rank\n",
    "dfo['Odds'] = dfo.avg.apply(calculate_odds)\n",
    "dfo['Rank'] = dfo.avg.rank(ascending=False).astype(int)"
   ]
  },
  {
   "cell_type": "code",
   "execution_count": 5,
   "metadata": {
    "collapsed": true
   },
   "outputs": [],
   "source": [
    "#dfop is formatted for output \n",
    "dfop = dfo[['Rank','Pitcher','date','Team','Opponent','avg','Odds','game_link']].copy()\n",
    "dfop.columns = ['Rank','Pitcher','Date','Team','Opponent','ABBA','Odds vs 0.250 ABBA','Boxscore']\n",
    "dfop.Boxscore = dfop.Boxscore.apply(lambda x: f\"[Link]({x})\")\n",
    "dfop.ABBA = round(dfop.ABBA, 4)"
   ]
  },
  {
   "cell_type": "code",
   "execution_count": 7,
   "metadata": {},
   "outputs": [
    {
     "name": "stdout",
     "output_type": "stream",
     "text": [
      "Rank|Pitcher|Date|Team|Opponent|ABBA|Odds vs 0.250 ABBA|Boxscore\n",
      "---|---|---|---|---|---|---|---\n",
      "1|Hideo Nomo (1)|1996-09-17|Los Angeles Dodgers|Colorado Rockies|0.2899|4.38 times less likely|[Link](https://www.baseball-reference.com/boxes/COL/COL199609170.shtml)\n",
      "2|Dwight Gooden|1996-05-14|New York Yankees|Seattle Mariners|0.2878|4.05 times less likely|[Link](https://www.baseball-reference.com/boxes/NYA/NYA199605140.shtml)\n",
      "3|Vern Bickford|1950-08-11|Boston Braves|Brooklyn Dodgers|0.2858|3.74 times less likely|[Link](https://www.baseball-reference.com/boxes/BSN/BSN195008110.shtml)\n",
      "4|Al Leiter|1996-05-11|Florida Marlins|Colorado Rockies|0.2792|2.92 times less likely|[Link](https://www.baseball-reference.com/boxes/FLO/FLO199605110.shtml)\n",
      "5|Roy Halladay (2)|2010-10-06|Philadelphia Phillies|Cincinnati Reds|0.277|2.69 times less likely|[Link](https://www.baseball-reference.com/boxes/PHI/PHI201010060.shtml)\n",
      "6|David Cone|1999-07-18|New York Yankees (AL)|Montreal Expos (NL)|0.2767|2.66 times less likely|[Link](https://www.baseball-reference.com/boxes/NYA/NYA199907180.shtml)\n",
      "7|Hoyt Wilhelm|1958-09-20|Baltimore Orioles|New York Yankees|0.2752|2.52 times less likely|[Link](https://www.baseball-reference.com/boxes/BAL/BAL195809200.shtml)\n",
      "8|Virgil Trucks (2)|1952-08-25|Detroit Tigers|New York Yankees|0.2741|2.41 times less likely|[Link](https://www.baseball-reference.com/boxes/NYA/NYA195208250.shtml)\n",
      "9|Kenny Rogers|1994-07-28|Texas Rangers|California Angels|0.2721|2.24 times less likely|[Link](https://www.baseball-reference.com/boxes/TEX/TEX199407280.shtml)\n",
      "10|Matt Garza|2010-07-26|Tampa Bay Rays|Detroit Tigers|0.2718|2.22 times less likely|[Link](https://www.baseball-reference.com/boxes/TBA/TBA201007260.shtml)\n",
      "11|Don Wilson (2)|1969-05-01|Houston Astros|Cincinnati Reds|0.2716|2.2 times less likely|[Link](https://www.baseball-reference.com/boxes/CIN/CIN196905010.shtml)\n",
      "12|Rex Barney|1948-09-09|Brooklyn Dodgers|New York Giants|0.2714|2.18 times less likely|[Link](https://www.baseball-reference.com/boxes/NY1/NY1194809090.shtml)\n",
      "13|Roy Oswalt (1 IP) Pete Munro (?2 2?3 IP) Kirk Saarloos (?1 1?3 IP) Brad Lidge (2 IP) Octavio Dotel (1 IP) Billy Wagner (1 IP)|2003-06-11|Houston Astros (NL)|New York Yankees (AL)|0.2713|2.18 times less likely|[Link](https://www.baseball-reference.com/boxes/NYA/NYA200306110.shtml)\n",
      "14|Bob Feller (3)|1951-07-01|Cleveland Indians|Detroit Tigers|0.2707|2.13 times less likely|[Link](https://www.baseball-reference.com/boxes/CLE/CLE195107011.shtml)\n",
      "15|Jim Colborn|1977-05-14|Kansas City Royals|Texas Rangers|0.2705|2.11 times less likely|[Link](https://www.baseball-reference.com/boxes/KCA/KCA197705140.shtml)\n",
      "\n"
     ]
    }
   ],
   "source": [
    "#top 15\n",
    "print(pandas_df_to_markdown_table(dfop.head(15)))"
   ]
  },
  {
   "cell_type": "code",
   "execution_count": 8,
   "metadata": {},
   "outputs": [
    {
     "name": "stdout",
     "output_type": "stream",
     "text": [
      "Rank|Pitcher|Date|Team|Opponent|ABBA|Odds vs 0.250 ABBA|Boxscore\n",
      "---|---|---|---|---|---|---|---\n",
      "172|Homer Bailey (1)|2012-09-28|Cincinnati Reds|Pittsburgh Pirates|0.2319|1.9 times more likely|[Link](https://www.baseball-reference.com/boxes/PIT/PIT201209280.shtml)\n",
      "173|Chris Heston|2015-06-09|San Francisco Giants|New York Mets|0.2318|1.91 times more likely|[Link](https://www.baseball-reference.com/boxes/NYN/NYN201506090.shtml)\n",
      "174|Don Wilson (1)|1967-06-18|Houston Astros|Atlanta Braves|0.2316|1.92 times more likely|[Link](https://www.baseball-reference.com/boxes/HOU/HOU196706180.shtml)\n",
      "175|Matt Cain|2012-06-13|San Francisco Giants|Houston Astros|0.2315|1.93 times more likely|[Link](https://www.baseball-reference.com/boxes/SFN/SFN201206130.shtml)\n",
      "176|Bill Singer|1970-07-20|Los Angeles Dodgers|Philadelphia Phillies|0.2308|1.98 times more likely|[Link](https://www.baseball-reference.com/boxes/LAN/LAN197007200.shtml)\n",
      "177|Tom Phoebus|1968-04-27|Baltimore Orioles|Boston Red Sox|0.2292|2.1 times more likely|[Link](https://www.baseball-reference.com/boxes/BAL/BAL196804270.shtml)\n",
      "178|Bill Stoneman (2)|1972-10-02|Montreal Expos|New York Mets|0.2289|2.11 times more likely|[Link](https://www.baseball-reference.com/boxes/MON/MON197210021.shtml)\n",
      "179|Bo Belinsky|1962-05-05|Los Angeles Angels|Baltimore Orioles|0.2289|2.12 times more likely|[Link](https://www.baseball-reference.com/boxes/LAA/LAA196205050.shtml)\n",
      "180|Walker Buehler (6 IP) Tony Cingrani (1 IP) Yimi García (1 IP) Adam Liberatore (1 IP)|2018-05-04|Los Angeles Dodgers|San Diego Padres|0.2288|2.12 times more likely|[Link](https://www.baseball-reference.com/boxes/SDN/SDN201805040.shtml)\n",
      "181|Sonny Siebert|1966-06-10|Cleveland Indians|Washington Senators|0.2261|2.33 times more likely|[Link](https://www.baseball-reference.com/boxes/CLE/CLE196606100.shtml)\n",
      "182|James Paxton|2018-05-08|Seattle Mariners|Toronto Blue Jays|0.2253|2.39 times more likely|[Link](https://www.baseball-reference.com/boxes/TOR/TOR201805080.shtml)\n",
      "183|Tim Lincecum (2)|2014-06-25|San Francisco Giants|San Diego Padres|0.2226|2.63 times more likely|[Link](https://www.baseball-reference.com/boxes/SFN/SFN201406250.shtml)\n",
      "184|Eric Milton|1999-09-11|Minnesota Twins|Anaheim Angels|0.2224|2.65 times more likely|[Link](https://www.baseball-reference.com/boxes/MIN/MIN199909110.shtml)\n",
      "185|Len Barker|1981-05-15|Cleveland Indians|Toronto Blue Jays|0.22|2.88 times more likely|[Link](https://www.baseball-reference.com/boxes/CLE/CLE198105150.shtml)\n",
      "186|Juan Marichal|1963-06-15|San Francisco Giants|Houston Colt .45s|0.2168|3.22 times more likely|[Link](https://www.baseball-reference.com/boxes/SFN/SFN196306150.shtml)\n",
      "\n"
     ]
    }
   ],
   "source": [
    "#bottom 15\n",
    "print(pandas_df_to_markdown_table(dfop.tail(15)))"
   ]
  },
  {
   "cell_type": "code",
   "execution_count": 9,
   "metadata": {},
   "outputs": [
    {
     "name": "stdout",
     "output_type": "stream",
     "text": [
      "Rank|Pitcher|Date|Team|Opponent|ABBA|Odds vs 0.250 ABBA|Boxscore\n",
      "---|---|---|---|---|---|---|---\n",
      "16|Nolan Ryan (3)|1974-09-28|California Angels|Minnesota Twins|0.2704|2.11 times less likely|[Link](https://www.baseball-reference.com/boxes/CAL/CAL197409280.shtml)\n",
      "39|Nolan Ryan (1)|1973-05-15|California Angels|Kansas City Royals|0.2648|1.71 times less likely|[Link](https://www.baseball-reference.com/boxes/KCA/KCA197305150.shtml)\n",
      "42|Nolan Ryan (7)|1991-05-01|Texas Rangers|Toronto Blue Jays|0.2636|1.64 times less likely|[Link](https://www.baseball-reference.com/boxes/TEX/TEX199105010.shtml)\n",
      "63|Nolan Ryan (5)|1981-09-26|Houston Astros|Los Angeles Dodgers|0.2595|1.41 times less likely|[Link](https://www.baseball-reference.com/boxes/HOU/HOU198109260.shtml)\n",
      "79|Nolan Ryan (2)|1973-07-15|California Angels|Detroit Tigers|0.2555|1.22 times less likely|[Link](https://www.baseball-reference.com/boxes/DET/DET197307150.shtml)\n",
      "85|Nolan Ryan (6)|1990-06-11|Texas Rangers|Oakland Athletics|0.2549|1.19 times less likely|[Link](https://www.baseball-reference.com/boxes/OAK/OAK199006110.shtml)\n",
      "113|Nolan Ryan (4)|1975-06-01|California Angels|Baltimore Orioles|0.2505|1.02 times less likely|[Link](https://www.baseball-reference.com/boxes/CAL/CAL197506010.shtml)\n",
      "\n"
     ]
    }
   ],
   "source": [
    "#nolan ryan\n",
    "ryan = dfop[dfop.Pitcher.str.contains(\"Nolan Ryan\")]\n",
    "print(pandas_df_to_markdown_table(ryan))"
   ]
  },
  {
   "cell_type": "code",
   "execution_count": null,
   "metadata": {
    "collapsed": true
   },
   "outputs": [],
   "source": []
  }
 ],
 "metadata": {
  "kernelspec": {
   "display_name": "Python [conda env:Anaconda3]",
   "language": "python",
   "name": "conda-env-Anaconda3-py"
  },
  "language_info": {
   "codemirror_mode": {
    "name": "ipython",
    "version": 3
   },
   "file_extension": ".py",
   "mimetype": "text/x-python",
   "name": "python",
   "nbconvert_exporter": "python",
   "pygments_lexer": "ipython3",
   "version": "3.6.1"
  }
 },
 "nbformat": 4,
 "nbformat_minor": 2
}
